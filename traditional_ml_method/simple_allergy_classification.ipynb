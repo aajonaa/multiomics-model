{
 "cells": [
  {
   "cell_type": "markdown",
   "metadata": {},
   "source": [
    "# Simple but Effective Allergy Classification\n",
    "\n",
    "Quick implementation of effective methods for allergy prediction using genus + metabolite data."
   ]
  },
  {
   "cell_type": "code",
   "execution_count": 6,
   "metadata": {},
   "outputs": [
    {
     "name": "stdout",
     "output_type": "stream",
     "text": [
      "Libraries loaded!\n"
     ]
    }
   ],
   "source": [
    "import pandas as pd\n",
    "import numpy as np\n",
    "from sklearn.model_selection import cross_val_score, train_test_split\n",
    "from sklearn.metrics import classification_report, roc_auc_score, confusion_matrix\n",
    "from sklearn.feature_selection import SelectKBest, f_classif\n",
    "from sklearn.preprocessing import StandardScaler\n",
    "from xgboost import XGBClassifier\n",
    "from lightgbm import LGBMClassifier\n",
    "from sklearn.ensemble import RandomForestClassifier\n",
    "import matplotlib.pyplot as plt\n",
    "import seaborn as sns\n",
    "\n",
    "print(\"Libraries loaded!\")"
   ]
  },
  {
   "cell_type": "markdown",
   "metadata": {},
   "source": [
    "## 1. Load Processed Data"
   ]
  },
  {
   "cell_type": "code",
   "execution_count": 7,
   "metadata": {},
   "outputs": [
    {
     "name": "stdout",
     "output_type": "stream",
     "text": [
      "Data loaded: (160, 6693)\n",
      "Features: (160, 6691)\n",
      "Labels: label\n",
      "0    88\n",
      "1    72\n",
      "Name: count, dtype: int64\n",
      "Sample column names: ['genus_Escherichia_Shigella', 'genus_Bifidobacterium', 'genus_Klebsiella', 'genus_Bacteroides', 'genus_Clostridium_sensu_stricto_1']\n",
      "Cleaned problematic names: ['genus_Ruminococcus_gnavus_group', 'genus_Ruminococcus_torques_group', 'genus_Ruminococcus']\n"
     ]
    }
   ],
   "source": [
    "# Load the processed data from previous notebook\n",
    "try:\n",
    "    combined_data = pd.read_excel('processed_combined_genus_metabolite203.xlsx', index_col=0)\n",
    "    print(f\"Data loaded: {combined_data.shape}\")\n",
    "except:\n",
    "    print(\"Please run the data processing notebook first!\")\n",
    "    # Alternative: load from individual files\n",
    "    X = pd.read_excel('processed_features_genus_metabolite203.xlsx', index_col=0)\n",
    "    labels_df = pd.read_excel('processed_labels_genus_metabolite203.xlsx')\n",
    "    y = labels_df['label'].values\n",
    "    \n",
    "# Separate features and labels\n",
    "X = combined_data.drop(['label', 'group'], axis=1)\n",
    "y = combined_data['label']\n",
    "\n",
    "# Fix column names - remove special characters that XGBoost doesn't like\n",
    "def clean_column_names(df):\n",
    "    \"\"\"Clean column names to be compatible with XGBoost\"\"\"\n",
    "    df = df.copy()\n",
    "    # Replace problematic characters\n",
    "    df.columns = df.columns.str.replace('[', '', regex=False)\n",
    "    df.columns = df.columns.str.replace(']', '', regex=False)\n",
    "    df.columns = df.columns.str.replace('<', '_lt_', regex=False)\n",
    "    df.columns = df.columns.str.replace('>', '_gt_', regex=False)\n",
    "    df.columns = df.columns.str.replace('(', '_', regex=False)\n",
    "    df.columns = df.columns.str.replace(')', '_', regex=False)\n",
    "    df.columns = df.columns.str.replace(' ', '_', regex=False)\n",
    "    df.columns = df.columns.str.replace('-', '_', regex=False)\n",
    "    df.columns = df.columns.str.replace('/', '_', regex=False)\n",
    "    df.columns = df.columns.str.replace('\\\\', '_', regex=False)\n",
    "    # Remove multiple underscores\n",
    "    df.columns = df.columns.str.replace('_+', '_', regex=True)\n",
    "    # Remove leading/trailing underscores\n",
    "    df.columns = df.columns.str.strip('_')\n",
    "    return df\n",
    "\n",
    "X = clean_column_names(X)\n",
    "\n",
    "print(f\"Features: {X.shape}\")\n",
    "print(f\"Labels: {y.value_counts()}\")\n",
    "print(f\"Sample column names: {list(X.columns[:5])}\")\n",
    "print(f\"Cleaned problematic names: {[col for col in X.columns if 'Ruminococcus' in col][:3]}\")"
   ]
  },
  {
   "cell_type": "markdown",
   "metadata": {},
   "source": [
    "## 2. Quick Baseline Models"
   ]
  },
  {
   "cell_type": "code",
   "execution_count": 8,
   "metadata": {},
   "outputs": [
    {
     "name": "stdout",
     "output_type": "stream",
     "text": [
      "XGBoost:\n",
      "  CV AUC: 0.881 ± 0.059\n",
      "  Test AUC: 0.849\n",
      "\n",
      "LightGBM:\n",
      "  CV AUC: 0.861 ± 0.068\n",
      "  Test AUC: 0.837\n",
      "\n",
      "RandomForest:\n",
      "  CV AUC: 0.718 ± 0.086\n",
      "  Test AUC: 0.873\n",
      "\n"
     ]
    }
   ],
   "source": [
    "# Split data\n",
    "X_train, X_test, y_train, y_test = train_test_split(X, y, test_size=0.2, random_state=42, stratify=y)\n",
    "\n",
    "# Define models\n",
    "models = {\n",
    "    'XGBoost': XGBClassifier(n_estimators=100, max_depth=6, learning_rate=0.1, random_state=42),\n",
    "    'LightGBM': LGBMClassifier(n_estimators=100, max_depth=6, learning_rate=0.1, random_state=42, verbose=-1),\n",
    "    'RandomForest': RandomForestClassifier(n_estimators=100, max_depth=10, random_state=42)\n",
    "}\n",
    "\n",
    "# Train and evaluate\n",
    "results = {}\n",
    "for name, model in models.items():\n",
    "    # Cross-validation on training set\n",
    "    cv_scores = cross_val_score(model, X_train, y_train, cv=5, scoring='roc_auc')\n",
    "    \n",
    "    # Train on full training set and test\n",
    "    model.fit(X_train, y_train)\n",
    "    test_pred = model.predict_proba(X_test)[:, 1]\n",
    "    test_auc = roc_auc_score(y_test, test_pred)\n",
    "    \n",
    "    results[name] = {\n",
    "        'CV_AUC': cv_scores.mean(),\n",
    "        'CV_std': cv_scores.std(),\n",
    "        'Test_AUC': test_auc\n",
    "    }\n",
    "    \n",
    "    print(f\"{name}:\")\n",
    "    print(f\"  CV AUC: {cv_scores.mean():.3f} ± {cv_scores.std():.3f}\")\n",
    "    print(f\"  Test AUC: {test_auc:.3f}\")\n",
    "    print()"
   ]
  },
  {
   "cell_type": "markdown",
   "metadata": {},
   "source": [
    "## 3. Multi-Modal Approach (Simple)"
   ]
  },
  {
   "cell_type": "code",
   "execution_count": 13,
   "metadata": {},
   "outputs": [
    {
     "name": "stdout",
     "output_type": "stream",
     "text": [
      "Genus features: 567\n",
      "Metabolite features: 6124\n",
      "Genus only AUC: 0.901\n",
      "Metabolite only AUC: 0.845\n",
      "Ensemble AUC: 0.889\n"
     ]
    }
   ],
   "source": [
    "# Separate genus and metabolite features\n",
    "genus_features = [col for col in X.columns if col.startswith('genus_')]\n",
    "metabolite_features = [col for col in X.columns if col.startswith('metabolite_')]\n",
    "\n",
    "print(f\"Genus features: {len(genus_features)}\")\n",
    "print(f\"Metabolite features: {len(metabolite_features)}\")\n",
    "\n",
    "# Train separate models\n",
    "genus_model = XGBClassifier(n_estimators=100, max_depth=6, random_state=42)\n",
    "metabolite_model = XGBClassifier(n_estimators=100, max_depth=6, random_state=42)\n",
    "\n",
    "genus_model.fit(X_train[genus_features], y_train)\n",
    "metabolite_model.fit(X_train[metabolite_features], y_train)\n",
    "\n",
    "# Get predictions\n",
    "genus_pred = genus_model.predict_proba(X_test[genus_features])[:, 1]\n",
    "metabolite_pred = metabolite_model.predict_proba(X_test[metabolite_features])[:, 1]\n",
    "\n",
    "# Simple ensemble - average predictions\n",
    "ensemble_pred = (genus_pred + metabolite_pred) / 2\n",
    "\n",
    "# Evaluate\n",
    "genus_auc = roc_auc_score(y_test, genus_pred)\n",
    "metabolite_auc = roc_auc_score(y_test, metabolite_pred)\n",
    "ensemble_auc = roc_auc_score(y_test, ensemble_pred)\n",
    "\n",
    "print(f\"Genus only AUC: {genus_auc:.3f}\")\n",
    "print(f\"Metabolite only AUC: {metabolite_auc:.3f}\")\n",
    "print(f\"Ensemble AUC: {ensemble_auc:.3f}\")"
   ]
  },
  {
   "cell_type": "markdown",
   "metadata": {},
   "source": [
    "## 4. Feature Selection"
   ]
  },
  {
   "cell_type": "code",
   "execution_count": 15,
   "metadata": {},
   "outputs": [
    {
     "name": "stdout",
     "output_type": "stream",
     "text": [
      "Selected features AUC: 0.798\n",
      "Number of features used: 50\n",
      "\n",
      "Top 10 features:\n",
      "                    feature       score\n",
      "1     genus_Bifidobacterium  104.394833\n",
      "5222   metabolite_FT05049PR   26.490208\n",
      "4727   metabolite_FT14424PR   26.026333\n",
      "2238   metabolite_FT05881NR   23.374477\n",
      "1817   metabolite_FT07784PR   22.830455\n",
      "6476   metabolite_FT06943PR   22.822147\n",
      "2108   metabolite_FT10404PR   22.806093\n",
      "6546   metabolite_FT06820NR   22.476568\n",
      "5999   metabolite_FT05544NR   21.954232\n",
      "4703   metabolite_FT05287PR   21.131786\n"
     ]
    },
    {
     "name": "stderr",
     "output_type": "stream",
     "text": [
      "c:\\Users\\admin\\AppData\\Local\\Programs\\Python\\Python312\\Lib\\site-packages\\sklearn\\feature_selection\\_univariate_selection.py:110: UserWarning: Features [114 135 137 140 148 156 171 182 194 195 206 208 219 227 229 236 237 243\n",
      " 246 250 251 256 263 270 272 275 282 289 290 294 299 300 302 306 310 313\n",
      " 314 316 319 321 322 328 329 330 332 334 337 341 343 346 349 351 354 356\n",
      " 359 360 362 370 371 374 378 379 381 382 388 391 392 398 399 405 406 407\n",
      " 408 409 411 412 413 415 416 417 419 420 421 422 424 426 427 428 430 432\n",
      " 433 434 437 439 441 442 445 446 447 448 450 451 454 455 459 461 462 463\n",
      " 464 470 473 475 476 477 478 479 480 481 482 483 484 485 486 487 488 492\n",
      " 493 494 495 497 499 500 501 502 503 504 505 506 507 508 509 510 511 516\n",
      " 517 518 519 520 523 525 526 528 532 533 534 537 538 539 544 546 547 548\n",
      " 551 554 555 556 557 558 559 560 561 563 565 566] are constant.\n",
      "  warnings.warn(\"Features %s are constant.\" % constant_features_idx, UserWarning)\n",
      "c:\\Users\\admin\\AppData\\Local\\Programs\\Python\\Python312\\Lib\\site-packages\\sklearn\\feature_selection\\_univariate_selection.py:111: RuntimeWarning: invalid value encountered in divide\n",
      "  f = msb / msw\n"
     ]
    }
   ],
   "source": [
    "# Select top features\n",
    "n_features = min(50, X.shape[1] // 2)  # Select top 50 or half of features\n",
    "selector = SelectKBest(f_classif, k=n_features)\n",
    "X_train_selected = selector.fit_transform(X_train, y_train)\n",
    "X_test_selected = selector.transform(X_test)\n",
    "\n",
    "# Train model on selected features\n",
    "model_selected = XGBClassifier(n_estimators=100, max_depth=6, random_state=42)\n",
    "model_selected.fit(X_train_selected, y_train)\n",
    "\n",
    "# Evaluate\n",
    "pred_selected = model_selected.predict_proba(X_test_selected)[:, 1]\n",
    "auc_selected = roc_auc_score(y_test, pred_selected)\n",
    "\n",
    "print(f\"Selected features AUC: {auc_selected:.3f}\")\n",
    "print(f\"Number of features used: {n_features}\")\n",
    "\n",
    "# Show top features\n",
    "feature_scores = selector.scores_\n",
    "feature_names = X.columns\n",
    "top_features = pd.DataFrame({\n",
    "    'feature': feature_names,\n",
    "    'score': feature_scores\n",
    "}).sort_values('score', ascending=False).head(10)\n",
    "\n",
    "print(\"\\nTop 10 features:\")\n",
    "print(top_features)"
   ]
  },
  {
   "cell_type": "markdown",
   "metadata": {},
   "source": [
    "## 5. Best Model Analysis"
   ]
  },
  {
   "cell_type": "code",
   "execution_count": 16,
   "metadata": {},
   "outputs": [
    {
     "name": "stdout",
     "output_type": "stream",
     "text": [
      "Best method: Genus_Only\n",
      "Best AUC: 0.901\n"
     ]
    },
    {
     "data": {
      "image/png": "[encoded data removed]",
      "text/plain": [
       "<Figure size 1200x600 with 1 Axes>"
      ]
     },
     "metadata": {},
     "output_type": "display_data"
    }
   ],
   "source": [
    "# Find best performing approach\n",
    "all_results = {\n",
    "    'XGBoost_All': results['XGBoost']['Test_AUC'],\n",
    "    'LightGBM_All': results['LightGBM']['Test_AUC'],\n",
    "    'RandomForest_All': results['RandomForest']['Test_AUC'],\n",
    "    'Genus_Only': genus_auc,\n",
    "    'Metabolite_Only': metabolite_auc,\n",
    "    'Ensemble': ensemble_auc,\n",
    "    'Feature_Selected': auc_selected\n",
    "}\n",
    "\n",
    "best_method = max(all_results, key=all_results.get)\n",
    "best_score = all_results[best_method]\n",
    "\n",
    "print(f\"Best method: {best_method}\")\n",
    "print(f\"Best AUC: {best_score:.3f}\")\n",
    "\n",
    "# Plot results\n",
    "plt.figure(figsize=(12, 6))\n",
    "methods = list(all_results.keys())\n",
    "scores = list(all_results.values())\n",
    "\n",
    "bars = plt.bar(methods, scores, color='skyblue')\n",
    "bars[methods.index(best_method)].set_color('orange')  # Highlight best\n",
    "\n",
    "plt.title('Model Performance Comparison')\n",
    "plt.ylabel('AUC Score')\n",
    "plt.xticks(rotation=45)\n",
    "plt.ylim(0, 1)\n",
    "plt.grid(axis='y', alpha=0.3)\n",
    "\n",
    "# Add value labels on bars\n",
    "for bar, score in zip(bars, scores):\n",
    "    plt.text(bar.get_x() + bar.get_width()/2, bar.get_height() + 0.01, \n",
    "             f'{score:.3f}', ha='center', va='bottom')\n",
    "\n",
    "plt.tight_layout()\n",
    "plt.show()"
   ]
  },
  {
   "cell_type": "markdown",
   "metadata": {},
   "source": [
    "## 6. Final Model and Predictions"
   ]
  },
  {
   "cell_type": "code",
   "execution_count": 17,
   "metadata": {},
   "outputs": [
    {
     "name": "stdout",
     "output_type": "stream",
     "text": [
      "Using Genus_Only\n",
      "\n",
      "Final Model Performance:\n",
      "AUC: 0.873\n",
      "\n",
      "Classification Report:\n",
      "              precision    recall  f1-score   support\n",
      "\n",
      "           N       0.70      0.89      0.78        18\n",
      "         IgE       0.78      0.50      0.61        14\n",
      "\n",
      "    accuracy                           0.72        32\n",
      "   macro avg       0.74      0.69      0.69        32\n",
      "weighted avg       0.73      0.72      0.71        32\n",
      "\n"
     ]
    },
    {
     "data": {
      "image/png": "[encoded data removed]",
      "text/plain": [
       "<Figure size 800x600 with 2 Axes>"
      ]
     },
     "metadata": {},
     "output_type": "display_data"
    },
    {
     "name": "stdout",
     "output_type": "stream",
     "text": [
      "\n",
      "Model successfully trained and evaluated!\n",
      "Best approach: Genus_Only with AUC = 0.901\n"
     ]
    }
   ],
   "source": [
    "# Use the best performing model\n",
    "if best_method == 'Ensemble':\n",
    "    final_predictions = ensemble_pred\n",
    "    print(\"Using ensemble of genus + metabolite models\")\n",
    "elif best_method == 'Feature_Selected':\n",
    "    final_predictions = pred_selected\n",
    "    print(f\"Using feature selection with {n_features} features\")\n",
    "else:\n",
    "    # Retrain the best single model\n",
    "    if 'XGBoost' in best_method:\n",
    "        final_model = XGBClassifier(n_estimators=100, max_depth=6, random_state=42)\n",
    "    elif 'LightGBM' in best_method:\n",
    "        final_model = LGBMClassifier(n_estimators=100, max_depth=6, random_state=42, verbose=-1)\n",
    "    else:\n",
    "        final_model = RandomForestClassifier(n_estimators=100, max_depth=10, random_state=42)\n",
    "    \n",
    "    final_model.fit(X_train, y_train)\n",
    "    final_predictions = final_model.predict_proba(X_test)[:, 1]\n",
    "    print(f\"Using {best_method}\")\n",
    "\n",
    "# Convert probabilities to binary predictions\n",
    "binary_predictions = (final_predictions > 0.5).astype(int)\n",
    "\n",
    "# Detailed evaluation\n",
    "print(f\"\\nFinal Model Performance:\")\n",
    "print(f\"AUC: {roc_auc_score(y_test, final_predictions):.3f}\")\n",
    "print(\"\\nClassification Report:\")\n",
    "print(classification_report(y_test, binary_predictions, target_names=['N', 'IgE']))\n",
    "\n",
    "# Confusion Matrix\n",
    "cm = confusion_matrix(y_test, binary_predictions)\n",
    "plt.figure(figsize=(8, 6))\n",
    "sns.heatmap(cm, annot=True, fmt='d', cmap='Blues', \n",
    "            xticklabels=['N', 'IgE'], yticklabels=['N', 'IgE'])\n",
    "plt.title('Confusion Matrix')\n",
    "plt.ylabel('True Label')\n",
    "plt.xlabel('Predicted Label')\n",
    "plt.show()\n",
    "\n",
    "print(f\"\\nModel successfully trained and evaluated!\")\n",
    "print(f\"Best approach: {best_method} with AUC = {best_score:.3f}\")"
   ]
  }
 ],
 "metadata": {
  "kernelspec": {
   "display_name": "Python 3",
   "language": "python",
   "name": "python3"
  },
  "language_info": {
   "codemirror_mode": {
    "name": "ipython",
    "version": 3
   },
   "file_extension": ".py",
   "mimetype": "text/x-python",
   "name": "python",
   "nbconvert_exporter": "python",
   "pygments_lexer": "ipython3",
   "version": "3.12.10"
  }
 },
 "nbformat": 4,
 "nbformat_minor": 4
}
