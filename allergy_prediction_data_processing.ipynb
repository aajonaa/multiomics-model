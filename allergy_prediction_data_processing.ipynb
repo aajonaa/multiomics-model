{
 "cells": [
  {
   "cell_type": "markdown",
   "metadata": {},
   "source": [
    "# Allergy Prediction Data Processing\n",
    "\n",
    "This notebook processes genus and metabolite_203 data for allergy prediction (IgE vs. N).\n",
    "We will:\n",
    "1. Load genus data and metabolite_203 data\n",
    "2. Remove samples (nE samples)\n",
    "3. Merge the datasets based on common samples\n",
    "4. Prepare data for machine learning"
   ]
  },
  {
   "cell_type": "code",
   "execution_count": 1,
   "metadata": {},
   "outputs": [
    {
     "name": "stdout",
     "output_type": "stream",
     "text": [
      "Libraries imported successfully!\n"
     ]
    }
   ],
   "source": [
    "import pandas as pd\n",
    "import numpy as np\n",
    "import matplotlib.pyplot as plt\n",
    "import seaborn as sns\n",
    "from sklearn.preprocessing import StandardScaler\n",
    "from sklearn.model_selection import train_test_split\n",
    "import warnings\n",
    "warnings.filterwarnings('ignore')\n",
    "\n",
    "# Check if required Excel engines are available\n",
    "try:\n",
    "    import xlrd\n",
    "    print(\"xlrd engine available\")\n",
    "except ImportError:\n",
    "    print(\"xlrd not installed. Install with: pip install xlrd\")\n",
    "\n",
    "try:\n",
    "    import openpyxl\n",
    "    print(\"openpyxl engine available\")\n",
    "except ImportError:\n",
    "    print(\"openpyxl not installed. Install with: pip install openpyxl\")\n",
    "\n",
    "print(\"Libraries imported successfully!\")"
   ]
  },
  {
   "cell_type": "markdown",
   "metadata": {},
   "source": [
    "## 1. Load the Data"
   ]
  },
  {
   "cell_type": "code",
   "execution_count": 3,
   "metadata": {},
   "outputs": [
    {
     "name": "stdout",
     "output_type": "stream",
     "text": [
      "Genus data shape: (567, 374)\n",
      "Genus data columns (first 10): ['N-4', 'N-5', 'N-12', 'N-13', 'N-16', 'N-18', 'N-19', 'N-24', 'N-26', 'N-28']\n",
      "Genus data index (first 5): ['Escherichia-Shigella', 'Bifidobacterium', 'Klebsiella', 'Bacteroides', 'Clostridium_sensu_stricto_1']\n"
     ]
    }
   ],
   "source": [
    "# Load genus data\n",
    "genus_file = 'DZOE2024090259_售后分析结果.20265.06.27_4cW0iTSH/genus.xls'\n",
    "# This file is actually tab-separated despite .xls extension\n",
    "genus_data = pd.read_csv(genus_file, sep='\\t', index_col=0)\n",
    "\n",
    "print(f\"Genus data shape: {genus_data.shape}\")\n",
    "print(f\"Genus data columns (first 10): {list(genus_data.columns[:10])}\")\n",
    "print(f\"Genus data index (first 5): {list(genus_data.index[:5])}\")"
   ]
  },
  {
   "cell_type": "code",
   "execution_count": 4,
   "metadata": {},
   "outputs": [
    {
     "name": "stdout",
     "output_type": "stream",
     "text": [
      "Metabolite data shape: (6124, 237)\n",
      "Metabolite data columns (first 10): ['m/z', 'Retention time (min)', 'Ion mode', 'Metabolites', 'Metabolites_cn', 'cid', 'cidlink', 'HMDB', 'METLIN', 'Lipidmaps']\n",
      "Metabolite data index (first 5): ['FT03973NR', 'FT11723NR', 'FT01668NR', 'FT03834NR', 'FT09366PR']\n"
     ]
    }
   ],
   "source": [
    "# Load metabolite_203 data\n",
    "metabolite_file = '代谢数据/203例代谢/metabolite_203.xlsx'\n",
    "try:\n",
    "    # Try with openpyxl engine first (for .xlsx files)\n",
    "    metabolite_data = pd.read_excel(metabolite_file, index_col=0, engine='openpyxl')\n",
    "except:\n",
    "    try:\n",
    "        # If openpyxl fails, try xlrd\n",
    "        metabolite_data = pd.read_excel(metabolite_file, index_col=0, engine='xlrd')\n",
    "    except:\n",
    "        # Last resort: try reading as tab-separated values\n",
    "        metabolite_data = pd.read_csv(metabolite_file, sep='\\t', index_col=0)\n",
    "\n",
    "print(f\"Metabolite data shape: {metabolite_data.shape}\")\n",
    "print(f\"Metabolite data columns (first 10): {list(metabolite_data.columns[:10])}\")\n",
    "print(f\"Metabolite data index (first 5): {list(metabolite_data.index[:5])}\")"
   ]
  },
  {
   "cell_type": "markdown",
   "metadata": {},
   "source": [
    "## 2. Analyze Sample Names and Labels"
   ]
  },
  {
   "cell_type": "code",
   "execution_count": 5,
   "metadata": {},
   "outputs": [
    {
     "name": "stdout",
     "output_type": "stream",
     "text": [
      "Total genus samples: 374\n",
      "N samples: 193\n",
      "IgE samples: 139\n",
      "nE samples: 42\n",
      "\n",
      "First 5 N samples: ['N-4', 'N-5', 'N-12', 'N-13', 'N-16']\n",
      "First 5 IgE samples: ['IgE-7', 'IgE-14', 'IgE-17', 'IgE-23', 'IgE-27']\n",
      "First 5 nE samples: ['nE-40', 'nE-61', 'nE-185', 'nE-228', 'nE-347']\n"
     ]
    }
   ],
   "source": [
    "# Analyze sample names in genus data\n",
    "genus_samples = list(genus_data.columns)\n",
    "print(f\"Total genus samples: {len(genus_samples)}\")\n",
    "\n",
    "# Count different sample types\n",
    "n_samples = [s for s in genus_samples if s.startswith('N-')]\n",
    "ige_samples = [s for s in genus_samples if s.startswith('IgE-')]\n",
    "ne_samples = [s for s in genus_samples if s.startswith('nE-')]\n",
    "\n",
    "print(f\"N samples: {len(n_samples)}\")\n",
    "print(f\"IgE samples: {len(ige_samples)}\")\n",
    "print(f\"nE samples: {len(ne_samples)}\")\n",
    "\n",
    "print(f\"\\nFirst 5 N samples: {n_samples[:5]}\")\n",
    "print(f\"First 5 IgE samples: {ige_samples[:5]}\")\n",
    "print(f\"First 5 nE samples: {ne_samples[:5]}\")"
   ]
  },
  {
   "cell_type": "code",
   "execution_count": 6,
   "metadata": {},
   "outputs": [
    {
     "name": "stdout",
     "output_type": "stream",
     "text": [
      "Total metabolite samples: 237\n",
      "Metabolite N samples: 88\n",
      "Metabolite IgE samples: 72\n",
      "Metabolite nE samples: 38\n",
      "\n",
      "First 5 metabolite samples: ['m/z', 'Retention time (min)', 'Ion mode', 'Metabolites', 'Metabolites_cn']\n"
     ]
    }
   ],
   "source": [
    "# Analyze sample names in metabolite data\n",
    "metabolite_samples = list(metabolite_data.columns)\n",
    "print(f\"Total metabolite samples: {len(metabolite_samples)}\")\n",
    "\n",
    "# Count different sample types in metabolite data\n",
    "met_n_samples = [s for s in metabolite_samples if s.startswith('N-')]\n",
    "met_ige_samples = [s for s in metabolite_samples if s.startswith('IgE-')]\n",
    "met_ne_samples = [s for s in metabolite_samples if s.startswith('nE-')]\n",
    "\n",
    "print(f\"Metabolite N samples: {len(met_n_samples)}\")\n",
    "print(f\"Metabolite IgE samples: {len(met_ige_samples)}\")\n",
    "print(f\"Metabolite nE samples: {len(met_ne_samples)}\")\n",
    "\n",
    "print(f\"\\nFirst 5 metabolite samples: {metabolite_samples[:5]}\")"
   ]
  },
  {
   "cell_type": "markdown",
   "metadata": {},
   "source": [
    "## 3. Remove nE Samples (Deprate)"
   ]
  },
  {
   "cell_type": "code",
   "execution_count": 7,
   "metadata": {},
   "outputs": [
    {
     "name": "stdout",
     "output_type": "stream",
     "text": [
      "Genus data after removing nE samples: (567, 332)\n",
      "Metabolite data after removing nE samples: (6124, 199)\n"
     ]
    }
   ],
   "source": [
    "# Remove nE samples from genus data\n",
    "genus_clean = genus_data.drop(columns=ne_samples)\n",
    "print(f\"Genus data after removing nE samples: {genus_clean.shape}\")\n",
    "\n",
    "# Remove nE samples from metabolite data\n",
    "metabolite_clean = metabolite_data.drop(columns=met_ne_samples)\n",
    "print(f\"Metabolite data after removing nE samples: {metabolite_clean.shape}\")"
   ]
  },
  {
   "cell_type": "markdown",
   "metadata": {},
   "source": [
    "## 4. Find Common Samples Between Datasets"
   ]
  },
  {
   "cell_type": "code",
   "execution_count": 8,
   "metadata": {},
   "outputs": [
    {
     "name": "stdout",
     "output_type": "stream",
     "text": [
      "Common samples between datasets: 160\n",
      "Samples only in genus data: 172\n",
      "Samples only in metabolite data: 39\n",
      "\n",
      "First 10 common samples: ['IgE-100', 'IgE-101', 'IgE-105', 'IgE-110', 'IgE-116', 'IgE-129', 'IgE-135', 'IgE-165', 'IgE-172', 'IgE-174']\n"
     ]
    }
   ],
   "source": [
    "# Find common samples between genus and metabolite data\n",
    "genus_samples_clean = set(genus_clean.columns)\n",
    "metabolite_samples_clean = set(metabolite_clean.columns)\n",
    "\n",
    "common_samples = genus_samples_clean.intersection(metabolite_samples_clean)\n",
    "print(f\"Common samples between datasets: {len(common_samples)}\")\n",
    "\n",
    "# Samples only in genus data\n",
    "genus_only = genus_samples_clean - metabolite_samples_clean\n",
    "print(f\"Samples only in genus data: {len(genus_only)}\")\n",
    "\n",
    "# Samples only in metabolite data\n",
    "metabolite_only = metabolite_samples_clean - genus_samples_clean\n",
    "print(f\"Samples only in metabolite data: {len(metabolite_only)}\")\n",
    "\n",
    "print(f\"\\nFirst 10 common samples: {sorted(list(common_samples))[:10]}\")"
   ]
  },
  {
   "cell_type": "markdown",
   "metadata": {},
   "source": [
    "## 5. Create Labels for Common Samples"
   ]
  },
  {
   "cell_type": "code",
   "execution_count": 9,
   "metadata": {},
   "outputs": [
    {
     "name": "stdout",
     "output_type": "stream",
     "text": [
      "Label distribution:\n",
      "group\n",
      "N      88\n",
      "IgE    72\n",
      "Name: count, dtype: int64\n",
      "\n",
      "First 10 labels:\n",
      "  sample_id  label group\n",
      "0   IgE-100      1   IgE\n",
      "1   IgE-101      1   IgE\n",
      "2   IgE-105      1   IgE\n",
      "3   IgE-110      1   IgE\n",
      "4   IgE-116      1   IgE\n",
      "5   IgE-129      1   IgE\n",
      "6   IgE-135      1   IgE\n",
      "7   IgE-165      1   IgE\n",
      "8   IgE-172      1   IgE\n",
      "9   IgE-174      1   IgE\n"
     ]
    }
   ],
   "source": [
    "# Create labels for common samples\n",
    "common_samples_list = sorted(list(common_samples))\n",
    "\n",
    "# Create label mapping: IgE = 1, N = 0\n",
    "labels = []\n",
    "for sample in common_samples_list:\n",
    "    if sample.startswith('IgE-'):\n",
    "        labels.append(1)  # Allergy positive\n",
    "    elif sample.startswith('N-'):\n",
    "        labels.append(0)  # Allergy negative\n",
    "    else:\n",
    "        labels.append(-1)  # Unknown (shouldn't happen after cleaning)\n",
    "\n",
    "labels_df = pd.DataFrame({\n",
    "    'sample_id': common_samples_list,\n",
    "    'label': labels,\n",
    "    'group': ['IgE' if l == 1 else 'N' for l in labels]\n",
    "})\n",
    "\n",
    "print(f\"Label distribution:\")\n",
    "print(labels_df['group'].value_counts())\n",
    "print(f\"\\nFirst 10 labels:\")\n",
    "print(labels_df.head(10))"
   ]
  },
  {
   "cell_type": "markdown",
   "metadata": {},
   "source": [
    "## 6. Extract Common Samples from Both Datasets"
   ]
  },
  {
   "cell_type": "code",
   "execution_count": 10,
   "metadata": {},
   "outputs": [
    {
     "name": "stdout",
     "output_type": "stream",
     "text": [
      "Genus common samples shape: (160, 567)\n",
      "Metabolite common samples shape: (160, 6124)\n",
      "Sample order matches: True\n"
     ]
    }
   ],
   "source": [
    "# Extract common samples from genus data\n",
    "genus_common = genus_clean[common_samples_list].T  # Transpose to have samples as rows\n",
    "print(f\"Genus common samples shape: {genus_common.shape}\")\n",
    "\n",
    "# Extract common samples from metabolite data\n",
    "metabolite_common = metabolite_clean[common_samples_list].T  # Transpose to have samples as rows\n",
    "print(f\"Metabolite common samples shape: {metabolite_common.shape}\")\n",
    "\n",
    "# Verify sample order is the same\n",
    "print(f\"Sample order matches: {list(genus_common.index) == list(metabolite_common.index)}\")"
   ]
  },
  {
   "cell_type": "markdown",
   "metadata": {},
   "source": [
    "## 7. Combine Genus and Metabolite Data"
   ]
  },
  {
   "cell_type": "code",
   "execution_count": 11,
   "metadata": {},
   "outputs": [
    {
     "name": "stdout",
     "output_type": "stream",
     "text": [
      "Combined data shape: (160, 6691)\n",
      "Genus features: 567\n",
      "Metabolite features: 6124\n",
      "Total features: 6691\n"
     ]
    }
   ],
   "source": [
    "# Combine genus and metabolite data\n",
    "# Add prefixes to distinguish features\n",
    "genus_common.columns = ['genus_' + col for col in genus_common.columns]\n",
    "metabolite_common.columns = ['metabolite_' + col for col in metabolite_common.columns]\n",
    "\n",
    "# Combine the datasets\n",
    "combined_data = pd.concat([genus_common, metabolite_common], axis=1)\n",
    "print(f\"Combined data shape: {combined_data.shape}\")\n",
    "print(f\"Genus features: {genus_common.shape[1]}\")\n",
    "print(f\"Metabolite features: {metabolite_common.shape[1]}\")\n",
    "print(f\"Total features: {combined_data.shape[1]}\")"
   ]
  },
  {
   "cell_type": "markdown",
   "metadata": {},
   "source": [
    "## 8. Add Labels to Combined Data"
   ]
  },
  {
   "cell_type": "code",
   "execution_count": 12,
   "metadata": {},
   "outputs": [
    {
     "name": "stdout",
     "output_type": "stream",
     "text": [
      "Final combined data shape: (160, 6693)\n",
      "\n",
      "Label distribution in final dataset:\n",
      "group\n",
      "N      88\n",
      "IgE    72\n",
      "Name: count, dtype: int64\n",
      "\n",
      "First 5 rows of combined data (showing last 5 columns):\n",
      "         metabolite_FT10487PR  metabolite_FT14461PR  metabolite_FT10795NR  \\\n",
      "IgE-100             40.020247             34.199045             36.781355   \n",
      "IgE-101             39.162654             43.473145             35.612395   \n",
      "IgE-105             40.563991             34.199045             37.376721   \n",
      "IgE-110             31.574599             45.042850             37.689651   \n",
      "IgE-116             41.708495             37.897923             36.580083   \n",
      "\n",
      "         label group  \n",
      "IgE-100      1   IgE  \n",
      "IgE-101      1   IgE  \n",
      "IgE-105      1   IgE  \n",
      "IgE-110      1   IgE  \n",
      "IgE-116      1   IgE  \n"
     ]
    }
   ],
   "source": [
    "# Add labels to the combined data\n",
    "combined_data['label'] = labels\n",
    "combined_data['group'] = [labels_df.loc[labels_df['sample_id'] == idx, 'group'].iloc[0] \n",
    "                         for idx in combined_data.index]\n",
    "\n",
    "print(f\"Final combined data shape: {combined_data.shape}\")\n",
    "print(f\"\\nLabel distribution in final dataset:\")\n",
    "print(combined_data['group'].value_counts())\n",
    "\n",
    "# Display first few rows\n",
    "print(f\"\\nFirst 5 rows of combined data (showing last 5 columns):\")\n",
    "print(combined_data.iloc[:5, -5:])"
   ]
  },
  {
   "cell_type": "markdown",
   "metadata": {},
   "source": [
    "## 9. Data Quality Check"
   ]
  },
  {
   "cell_type": "code",
   "execution_count": 13,
   "metadata": {},
   "outputs": [
    {
     "name": "stdout",
     "output_type": "stream",
     "text": [
      "Features with missing values: 0\n",
      "No missing values found!\n",
      "\n",
      "Data types:\n",
      "float64    6691\n",
      "int64         1\n",
      "object        1\n",
      "Name: count, dtype: int64\n"
     ]
    }
   ],
   "source": [
    "# Check for missing values\n",
    "missing_values = combined_data.isnull().sum()\n",
    "features_with_missing = missing_values[missing_values > 0]\n",
    "\n",
    "print(f\"Features with missing values: {len(features_with_missing)}\")\n",
    "if len(features_with_missing) > 0:\n",
    "    print(\"Features with missing values:\")\n",
    "    print(features_with_missing.head(10))\n",
    "else:\n",
    "    print(\"No missing values found!\")\n",
    "\n",
    "# Check data types\n",
    "print(f\"\\nData types:\")\n",
    "print(combined_data.dtypes.value_counts())"
   ]
  },
  {
   "cell_type": "markdown",
   "metadata": {},
   "source": [
    "## 10. Save Processed Data"
   ]
  },
  {
   "cell_type": "code",
   "execution_count": 14,
   "metadata": {},
   "outputs": [
    {
     "name": "stdout",
     "output_type": "stream",
     "text": [
      "Data saved successfully!\n",
      "Features shape: (160, 6691)\n",
      "Labels shape: (160,)\n",
      "Files saved:\n",
      "- processed_features_genus_metabolite203.xlsx\n",
      "- processed_labels_genus_metabolite203.xlsx\n",
      "- processed_combined_genus_metabolite203.xlsx\n"
     ]
    }
   ],
   "source": [
    "# Save the processed data\n",
    "# Separate features and labels\n",
    "X = combined_data.drop(['label', 'group'], axis=1)\n",
    "y = combined_data['label']\n",
    "groups = combined_data['group']\n",
    "\n",
    "# Save to Excel files\n",
    "X.to_excel('processed_features_genus_metabolite203.xlsx')\n",
    "labels_df_final = pd.DataFrame({\n",
    "    'sample_id': combined_data.index,\n",
    "    'label': y,\n",
    "    'group': groups\n",
    "})\n",
    "labels_df_final.to_excel('processed_labels_genus_metabolite203.xlsx', index=False)\n",
    "\n",
    "# Save combined data\n",
    "combined_data.to_excel('processed_combined_genus_metabolite203.xlsx')\n",
    "\n",
    "print(\"Data saved successfully!\")\n",
    "print(f\"Features shape: {X.shape}\")\n",
    "print(f\"Labels shape: {y.shape}\")\n",
    "print(f\"Files saved:\")\n",
    "print(\"- processed_features_genus_metabolite203.xlsx\")\n",
    "print(\"- processed_labels_genus_metabolite203.xlsx\")\n",
    "print(\"- processed_combined_genus_metabolite203.xlsx\")"
   ]
  },
  {
   "cell_type": "markdown",
   "metadata": {},
   "source": [
    "## 11. Data Summary and Visualization"
   ]
  },
  {
   "cell_type": "code",
   "execution_count": null,
   "metadata": {},
   "outputs": [],
   "source": [
    "# Create summary statistics\n",
    "print(\"=== DATA PROCESSING SUMMARY ===\")\n",
    "print(f\"Original genus data: {genus_data.shape}\")\n",
    "print(f\"Original metabolite data: {metabolite_data.shape}\")\n",
    "print(f\"nE samples removed from genus: {len(ne_samples)}\")\n",
    "print(f\"nE samples removed from metabolite: {len(met_ne_samples)}\")\n",
    "print(f\"Common samples between datasets: {len(common_samples)}\")\n",
    "print(f\"Final combined dataset: {combined_data.shape}\")\n",
    "print(f\"Features: {X.shape[1]} (Genus: {genus_common.shape[1]}, Metabolite: {metabolite_common.shape[1]})\")\n",
    "print(f\"Samples: {X.shape[0]}\")\n",
    "print(f\"\\nClass distribution:\")\n",
    "print(f\"IgE (Allergy positive): {sum(y == 1)} ({sum(y == 1)/len(y)*100:.1f}%)\")\n",
    "print(f\"N (Allergy negative): {sum(y == 0)} ({sum(y == 0)/len(y)*100:.1f}%)\")"
   ]
  },
  {
   "cell_type": "code",
   "execution_count": null,
   "metadata": {},
   "outputs": [],
   "source": [
    "# Create visualization\n",
    "fig, axes = plt.subplots(2, 2, figsize=(15, 10))\n",
    "\n",
    "# Class distribution\n",
    "groups.value_counts().plot(kind='bar', ax=axes[0,0], color=['skyblue', 'lightcoral'])\n",
    "axes[0,0].set_title('Class Distribution')\n",
    "axes[0,0].set_xlabel('Group')\n",
    "axes[0,0].set_ylabel('Count')\n",
    "axes[0,0].tick_params(axis='x', rotation=0)\n",
    "\n",
    "# Feature distribution (genus vs metabolite)\n",
    "feature_types = ['Genus', 'Metabolite']\n",
    "feature_counts = [genus_common.shape[1], metabolite_common.shape[1]]\n",
    "axes[0,1].pie(feature_counts, labels=feature_types, autopct='%1.1f%%', colors=['lightgreen', 'orange'])\n",
    "axes[0,1].set_title('Feature Distribution')\n",
    "\n",
    "# Sample distribution across datasets\n",
    "sample_info = pd.DataFrame({\n",
    "    'Dataset': ['Genus Only', 'Metabolite Only', 'Common'],\n",
    "    'Count': [len(genus_only), len(metabolite_only), len(common_samples)]\n",
    "})\n",
    "axes[1,0].bar(sample_info['Dataset'], sample_info['Count'], color=['lightblue', 'lightpink', 'lightgreen'])\n",
    "axes[1,0].set_title('Sample Distribution Across Datasets')\n",
    "axes[1,0].set_ylabel('Count')\n",
    "axes[1,0].tick_params(axis='x', rotation=45)\n",
    "\n",
    "# Data processing flow\n",
    "steps = ['Original\\nGenus', 'Remove\\nnE', 'Original\\nMetabolite', 'Remove\\nnE', 'Find\\nCommon', 'Final\\nDataset']\n",
    "counts = [genus_data.shape[1], genus_clean.shape[1], metabolite_data.shape[1], \n",
    "          metabolite_clean.shape[1], len(common_samples), combined_data.shape[0]]\n",
    "axes[1,1].plot(steps, counts, marker='o', linewidth=2, markersize=8, color='purple')\n",
    "axes[1,1].set_title('Data Processing Flow')\n",
    "axes[1,1].set_ylabel('Sample Count')\n",
    "axes[1,1].tick_params(axis='x', rotation=45)\n",
    "axes[1,1].grid(True, alpha=0.3)\n",
    "\n",
    "plt.tight_layout()\n",
    "plt.savefig('data_processing_summary.png', dpi=300, bbox_inches='tight')\n",
    "plt.show()\n",
    "\n",
    "print(\"\\nVisualization saved as 'data_processing_summary.png'\")"
   ]
  },
  {
   "cell_type": "markdown",
   "metadata": {},
   "source": [
    "## 12. Prepare Data for Machine Learning"
   ]
  },
  {
   "cell_type": "code",
   "execution_count": null,
   "metadata": {},
   "outputs": [],
   "source": [
    "# Prepare data for machine learning\n",
    "# Split the data\n",
    "X_train, X_test, y_train, y_test = train_test_split(\n",
    "    X, y, test_size=0.2, random_state=42, stratify=y\n",
    ")\n",
    "\n",
    "print(f\"Training set: {X_train.shape[0]} samples\")\n",
    "print(f\"Test set: {X_test.shape[0]} samples\")\n",
    "print(f\"\\nTraining set class distribution:\")\n",
    "print(f\"IgE: {sum(y_train == 1)} ({sum(y_train == 1)/len(y_train)*100:.1f}%)\")\n",
    "print(f\"N: {sum(y_train == 0)} ({sum(y_train == 0)/len(y_train)*100:.1f}%)\")\n",
    "print(f\"\\nTest set class distribution:\")\n",
    "print(f\"IgE: {sum(y_test == 1)} ({sum(y_test == 1)/len(y_test)*100:.1f}%)\")\n",
    "print(f\"N: {sum(y_test == 0)} ({sum(y_test == 0)/len(y_test)*100:.1f}%)\")\n",
    "\n",
    "# Save train/test splits\n",
    "X_train.to_excel('X_train_genus_metabolite203.xlsx')\n",
    "X_test.to_excel('X_test_genus_metabolite203.xlsx')\n",
    "pd.DataFrame({'label': y_train}, index=X_train.index).to_excel('y_train_genus_metabolite203.xlsx')\n",
    "pd.DataFrame({'label': y_test}, index=X_test.index).to_excel('y_test_genus_metabolite203.xlsx')\n",
    "\n",
    "print(\"\\nTrain/test splits saved!\")"
   ]
  },
  {
   "cell_type": "markdown",
   "metadata": {},
   "source": [
    "## Summary\n",
    "\n",
    "This notebook has successfully:\n",
    "\n",
    "1. **Loaded the data**: Genus data and metabolite_203 data\n",
    "2. **Removed duplicates**: Eliminated nE samples from both datasets\n",
    "3. **Found common samples**: Identified samples present in both datasets\n",
    "4. **Created labels**: IgE = 1 (allergy positive), N = 0 (allergy negative)\n",
    "5. **Combined datasets**: Merged genus and metabolite features\n",
    "6. **Quality checks**: Verified data integrity\n",
    "7. **Saved processed data**: Multiple output formats for further analysis\n",
    "8. **Prepared ML data**: Train/test splits ready for modeling\n",
    "\n",
    "The processed data is now ready for allergy prediction modeling!"
   ]
  }
 ],
 "metadata": {
  "kernelspec": {
   "display_name": "Python 3",
   "language": "python",
   "name": "python3"
  },
  "language_info": {
   "codemirror_mode": {
    "name": "ipython",
    "version": 3
   },
   "file_extension": ".py",
   "mimetype": "text/x-python",
   "name": "python",
   "nbconvert_exporter": "python",
   "pygments_lexer": "ipython3",
   "version": "3.12.10"
  }
 },
 "nbformat": 4,
 "nbformat_minor": 4
}
